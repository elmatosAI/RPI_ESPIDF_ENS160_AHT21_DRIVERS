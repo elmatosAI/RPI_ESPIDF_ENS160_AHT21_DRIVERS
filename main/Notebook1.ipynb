{
 "cells": [
  {
   "cell_type": "markdown",
   "id": "dcaa1b5e-cbd2-4854-b3ab-b9a956dfc229",
   "metadata": {},
   "source": [
    "# ENS160 Sensor Data Reading using Python\n",
    "\n",
    "This notebook demonstrates how to read data from the ENS160 sensor using the I2C interface on a Raspberry Pi. The following steps are performed:\n",
    "\n",
    "1. Open the I2C bus.\n",
    "2. Check if the ENS160 sensor is present.\n",
    "3. Read the `DEVICE_STATUS` register to check the sensor status.\n",
    "4. Read the `OPMODE` register to determine the current operating mode.\n",
    "5. If new data is available, read the AQI, TVOC, and ECO2 values.\n",
    "\n",
    "## Mathematical Formulas\n",
    "\n",
    "We can include mathematical formulas using LaTeX syntax. For example, the formula for the area of a circle is given by:\n",
    "\n",
    "$$\n",
    "A = \\pi r^2\n",
    "$$\n",
    "\n",
    "where:\n",
    "- \\( A \\) is the area of the circle.\n",
    "- \\( \\pi \\) is the mathematical constant Pi.\n",
    "- \\( r \\) is the radius of the circle.\n",
    "\n",
    "Inline formulas can be written like this: \\( E = mc^2 \\), which represents the famous equation by Albert Einstein.\n",
    "\n",
    "## Code Explanation\n",
    "\n",
    "The following code reads the `DEVICE_STATUS` register and checks if new data is available. If new data is available, it reads the AQI, TVOC, and ECO2 values and prints them in a comma-separated format."
   ]
  },
  {
   "cell_type": "code",
   "execution_count": 1,
   "id": "a8456140-c9bf-4ad5-9ba0-abdf1142b209",
   "metadata": {
    "scrolled": true
   },
   "outputs": [
    {
     "name": "stdout",
     "output_type": "stream",
     "text": [
      "Hello, World, I'm Emilio!\n"
     ]
    }
   ],
   "source": [
    "print(\"Hello, World, I'm Emilio!\")"
   ]
  },
  {
   "cell_type": "markdown",
   "id": "72709b4b-3e92-46aa-9ca7-692ecf343b1f",
   "metadata": {},
   "source": [
    "## Connection and detection of ENS160 sensor in I2C bus"
   ]
  },
  {
   "cell_type": "code",
   "execution_count": 2,
   "id": "d28acaf1-ed0c-42e5-8622-87f4e812a187",
   "metadata": {},
   "outputs": [
    {
     "name": "stdout",
     "output_type": "stream",
     "text": [
      "Device 0x53 is present on I2C bus 1.\n",
      "Register 0x00 contains value 0x0160.\n",
      "Device is an ENS160 sensor.\n"
     ]
    }
   ],
   "source": [
    "import smbus2\n",
    "import time\n",
    "\n",
    "# I2C bus number\n",
    "I2C_BUS = 1\n",
    "\n",
    "# ENS160 I2C address\n",
    "ENS160_ADDRESS = 0x53\n",
    "\n",
    "# ENS160 register to check\n",
    "REGISTER_ADDRESS = 0x00\n",
    "\n",
    "# Expected value in the register\n",
    "EXPECTED_VALUE = 0x0160\n",
    "\n",
    "def read_register(bus, address, register):\n",
    "    try:\n",
    "        # Read 2 bytes from the register\n",
    "        data = bus.read_word_data(address, register)\n",
    "        return data\n",
    "    except Exception as e:\n",
    "        print(f\"Error reading register: {e}\")\n",
    "        return None\n",
    "\n",
    "def main():\n",
    "    # Open I2C bus\n",
    "    bus = smbus2.SMBus(I2C_BUS)\n",
    "\n",
    "    # Check if the device is present\n",
    "    try:\n",
    "        bus.read_byte(ENS160_ADDRESS)\n",
    "        print(f\"Device 0x{ENS160_ADDRESS:02X} is present on I2C bus {I2C_BUS}.\")\n",
    "    except Exception as e:\n",
    "        print(f\"Device 0x{ENS160_ADDRESS:02X} not found on I2C bus {I2C_BUS}.\")\n",
    "        return\n",
    "\n",
    "    # Read the register value\n",
    "    value = read_register(bus, ENS160_ADDRESS, REGISTER_ADDRESS)\n",
    "    if value is not None:\n",
    "        print(f\"Register 0x{REGISTER_ADDRESS:02X} contains value 0x{value:04X}.\")\n",
    "        # Check if the value matches the expected value\n",
    "        if value == EXPECTED_VALUE:\n",
    "            print(\"Device is an ENS160 sensor.\")\n",
    "        else:\n",
    "            print(\"Device is not an ENS160 sensor.\")\n",
    "    else:\n",
    "        print(\"Failed to read the register value.\")\n",
    "\n",
    "    # Close the I2C bus\n",
    "    bus.close()\n",
    "\n",
    "if __name__ == \"__main__\":\n",
    "    main()"
   ]
  },
  {
   "cell_type": "markdown",
   "id": "41c8fab6-e3ed-4157-b3d8-1de567d1b92c",
   "metadata": {},
   "source": [
    "## Checks that ENS160 is running and shows current Operation Mode"
   ]
  },
  {
   "cell_type": "code",
   "execution_count": 3,
   "id": "05383594-f41c-4cdb-92d7-8e78e45ce914",
   "metadata": {},
   "outputs": [
    {
     "name": "stdout",
     "output_type": "stream",
     "text": [
      "Device status: Normal operation\n"
     ]
    }
   ],
   "source": [
    "# Constants for the DEVICE_STATUS register and bit positions\n",
    "DEVICE_STATUS_REGISTER = 0x20  # Corrected register address\n",
    "STATUS_BITS_MASK = 0b00001100  # Mask for bits 3 and 2\n",
    "STATUS_SHIFT = 2               # Number of bits to shift right to get the status\n",
    "\n",
    "# Function to read the DEVICE_STATUS register and interpret the status\n",
    "def read_device_status(bus, address):\n",
    "    try:\n",
    "        # Read the DEVICE_STATUS register (1 byte)\n",
    "        status_register_value = bus.read_byte_data(address, DEVICE_STATUS_REGISTER)\n",
    "        \n",
    "        # Extract bits 3 and 2\n",
    "        status_bits = (status_register_value & STATUS_BITS_MASK) >> STATUS_SHIFT\n",
    "        \n",
    "        # Interpret the status\n",
    "        if status_bits == 0:\n",
    "            status = \"Normal operation\"\n",
    "        elif status_bits == 1:\n",
    "            status = \"Warm-up phase\"\n",
    "        elif status_bits == 2:\n",
    "            status = \"Initial startup phase\"\n",
    "        elif status_bits == 3:\n",
    "            status = \"Invalid output\"\n",
    "        else:\n",
    "            status = \"Unknown status\"\n",
    "        \n",
    "        print(f\"Device status: {status}\")\n",
    "    except Exception as e:\n",
    "        print(f\"Error reading DEVICE_STATUS register: {e}\")\n",
    "\n",
    "# Open I2C bus\n",
    "bus = smbus2.SMBus(I2C_BUS)\n",
    "\n",
    "# Read and report the device status\n",
    "read_device_status(bus, ENS160_ADDRESS)\n",
    "\n",
    "# Close the I2C bus\n",
    "bus.close()"
   ]
  },
  {
   "cell_type": "code",
   "execution_count": 4,
   "id": "0157ff72-a331-449c-97f3-bdaa3391df48",
   "metadata": {},
   "outputs": [
    {
     "name": "stdout",
     "output_type": "stream",
     "text": [
      "Current Operation Mode: STANDARD Gas Sensing Mode (0x02)\n"
     ]
    }
   ],
   "source": [
    "# Constants for the OPMODE register and operation modes\n",
    "OPMODE_REGISTER = 0x10  # Register address for OPMODE\n",
    "STANDARD_MODE = 0x02    # Standard Gas Sensing Mode\n",
    "\n",
    "# Function to read the OPMODE register and report the current operation mode\n",
    "def read_opmode(bus, address):\n",
    "    try:\n",
    "        # Read the OPMODE register (1 byte)\n",
    "        opmode_value = bus.read_byte_data(address, OPMODE_REGISTER)\n",
    "        \n",
    "        # Interpret the operation mode\n",
    "        if opmode_value == 0x00:\n",
    "            mode = \"DEEP SLEEP mode (low-power standby)\"\n",
    "        elif opmode_value == 0x01:\n",
    "            mode = \"IDLE mode (low power)\"\n",
    "        elif opmode_value == 0x02:\n",
    "            mode = \"STANDARD Gas Sensing Mode\"\n",
    "        elif opmode_value == 0xF0:\n",
    "            mode = \"RESET\"\n",
    "        else:\n",
    "            mode = \"Unknown mode\"\n",
    "        \n",
    "        print(f\"Current Operation Mode: {mode} (0x{opmode_value:02X})\")\n",
    "        return opmode_value\n",
    "    except Exception as e:\n",
    "        print(f\"Error reading OPMODE register: {e}\")\n",
    "        return None\n",
    "\n",
    "# Function to write the STANDARD mode to the OPMODE register\n",
    "def write_standard_mode(bus, address):\n",
    "    try:\n",
    "        # Write STANDARD mode (0x02) to the OPMODE register\n",
    "        bus.write_byte_data(address, OPMODE_REGISTER, STANDARD_MODE)\n",
    "        print(\"Written STANDARD Gas Sensing Mode (0x02) to OPMODE register.\")\n",
    "    except Exception as e:\n",
    "        print(f\"Error writing to OPMODE register: {e}\")\n",
    "\n",
    "# Open I2C bus\n",
    "bus = smbus2.SMBus(I2C_BUS)\n",
    "\n",
    "# Read and report the current operation mode\n",
    "current_mode = read_opmode(bus, ENS160_ADDRESS)\n",
    "\n",
    "# If the current mode is not STANDARD, write STANDARD mode and read again to confirm\n",
    "if current_mode is not None and current_mode != STANDARD_MODE:\n",
    "    write_standard_mode(bus, ENS160_ADDRESS)\n",
    "    # Read and report the operation mode again to confirm the change\n",
    "    read_opmode(bus, ENS160_ADDRESS)\n",
    "\n",
    "# Close the I2C bus\n",
    "bus.close()"
   ]
  },
  {
   "cell_type": "markdown",
   "id": "6c8fe55c-7cfb-4326-8017-66568ed73dbb",
   "metadata": {},
   "source": [
    "## Checks if new data is available to read and shows AQI, TVOC, ECO2 available values"
   ]
  },
  {
   "cell_type": "code",
   "execution_count": 5,
   "id": "545b107c-5d7a-4c47-a1f7-203c2b5b0d0e",
   "metadata": {},
   "outputs": [
    {
     "name": "stdout",
     "output_type": "stream",
     "text": [
      "New data is available in the DATA_x registers.\n",
      "AQI: 3\n",
      "TVOC: 376 ppb\n",
      "eCO2: 827 ppm\n"
     ]
    }
   ],
   "source": [
    "# Constants for the DEVICE_STATUS register and bit positions\n",
    "DEVICE_STATUS_REGISTER = 0x20  # Register address for DEVICE_STATUS\n",
    "NEWDAT_BIT_MASK = 0b00000010   # Mask for bit 1 (NEWDAT)\n",
    "\n",
    "# Constants for the data registers\n",
    "DATA_AQI_REGISTER = 0x21       # Register address for DATA_AQI\n",
    "DATA_TVOC_REGISTER = 0x22      # Register address for DATA_TVOC\n",
    "DATA_ECO2_REGISTER = 0x24      # Register address for DATA_ECO2\n",
    "\n",
    "# Function to read the DEVICE_STATUS register and check the NEWDAT bit\n",
    "def check_new_data(bus, address):\n",
    "    try:\n",
    "        # Read the DEVICE_STATUS register (1 byte)\n",
    "        status_register_value = bus.read_byte_data(address, DEVICE_STATUS_REGISTER)\n",
    "        \n",
    "        # Check if the NEWDAT bit (bit 1) is set\n",
    "        newdat = (status_register_value & NEWDAT_BIT_MASK) >> 1\n",
    "        \n",
    "        if newdat == 1:\n",
    "            print(\"New data is available in the DATA_x registers.\")\n",
    "            return True\n",
    "        else:\n",
    "            print(\"No new data available.\")\n",
    "            return False\n",
    "    except Exception as e:\n",
    "        print(f\"Error reading DEVICE_STATUS register: {e}\")\n",
    "        return False\n",
    "\n",
    "# Function to read AQI, TVOC, and ECO2 values\n",
    "def read_sensor_data(bus, address):\n",
    "    try:\n",
    "        # Read AQI value\n",
    "        aqi_value = bus.read_byte_data(address, DATA_AQI_REGISTER)\n",
    "        print(f\"AQI: {aqi_value & 0b00000111}\")  # Extract AQI_UBA (bits 0:2)\n",
    "        \n",
    "        # Read TVOC value (2 bytes)\n",
    "        tvoc_lsb = bus.read_byte_data(address, DATA_TVOC_REGISTER)\n",
    "        tvoc_msb = bus.read_byte_data(address, DATA_TVOC_REGISTER + 1)\n",
    "        tvoc_value = (tvoc_msb << 8) | tvoc_lsb\n",
    "        print(f\"TVOC: {tvoc_value} ppb\")\n",
    "        \n",
    "        # Read ECO2 value (2 bytes)\n",
    "        eco2_lsb = bus.read_byte_data(address, DATA_ECO2_REGISTER)\n",
    "        eco2_msb = bus.read_byte_data(address, DATA_ECO2_REGISTER + 1)\n",
    "        eco2_value = (eco2_msb << 8) | eco2_lsb\n",
    "        print(f\"eCO2: {eco2_value} ppm\")\n",
    "    except Exception as e:\n",
    "        print(f\"Error reading sensor data: {e}\")\n",
    "\n",
    "# Open I2C bus\n",
    "bus = smbus2.SMBus(I2C_BUS)\n",
    "\n",
    "# Check if new data is available and read sensor data if it is\n",
    "if check_new_data(bus, ENS160_ADDRESS):\n",
    "    read_sensor_data(bus, ENS160_ADDRESS)\n",
    "\n",
    "# Close the I2C bus\n",
    "bus.close()"
   ]
  },
  {
   "cell_type": "markdown",
   "id": "841c94f7-f2d4-4824-9464-adc8b346cfb0",
   "metadata": {},
   "source": [
    "## Performs a number of read operations and output the values to the exit file sensor_out.csv\n",
    "Check output file and wait until the operation finishes"
   ]
  },
  {
   "cell_type": "code",
   "execution_count": 6,
   "id": "1bd5cf73-a4c9-4692-ae1e-abaa510ef843",
   "metadata": {},
   "outputs": [
    {
     "name": "stdout",
     "output_type": "stream",
     "text": [
      "File opened with headers\n"
     ]
    },
    {
     "ename": "KeyboardInterrupt",
     "evalue": "",
     "output_type": "error",
     "traceback": [
      "\u001b[31m---------------------------------------------------------------------------\u001b[39m",
      "\u001b[31mKeyboardInterrupt\u001b[39m                         Traceback (most recent call last)",
      "\u001b[36mCell\u001b[39m\u001b[36m \u001b[39m\u001b[32mIn[6]\u001b[39m\u001b[32m, line 76\u001b[39m\n\u001b[32m     73\u001b[39m         \u001b[38;5;28;01melse\u001b[39;00m:\n\u001b[32m     74\u001b[39m             \u001b[38;5;28mprint\u001b[39m(\u001b[33m\"\u001b[39m\u001b[33mNo new data available.\u001b[39m\u001b[33m\"\u001b[39m)\n\u001b[32m---> \u001b[39m\u001b[32m76\u001b[39m         time.sleep(\u001b[32m30\u001b[39m)\n\u001b[32m     78\u001b[39m \u001b[38;5;28mprint\u001b[39m(\u001b[33m\"\u001b[39m\u001b[33mData output finished. File closed.\u001b[39m\u001b[33m\"\u001b[39m) \n\u001b[32m     79\u001b[39m \u001b[38;5;66;03m# Close the I2C bus\u001b[39;00m\n",
      "\u001b[31mKeyboardInterrupt\u001b[39m: "
     ]
    }
   ],
   "source": [
    "import smbus2\n",
    "import time\n",
    "import csv\n",
    "from datetime import datetime\n",
    "\n",
    "# Constants for the DEVICE_STATUS register and bit positions\n",
    "DEVICE_STATUS_REGISTER = 0x20  # Register address for DEVICE_STATUS\n",
    "NEWDAT_BIT_MASK = 0b00000010   # Mask for bit 1 (NEWDAT)\n",
    "\n",
    "# Constants for the data registers\n",
    "DATA_AQI_REGISTER = 0x21       # Register address for DATA_AQI\n",
    "DATA_TVOC_REGISTER = 0x22      # Register address for DATA_TVOC\n",
    "DATA_ECO2_REGISTER = 0x24      # Register address for DATA_ECO2\n",
    "\n",
    "# Function to read the DEVICE_STATUS register and check the NEWDAT bit\n",
    "def check_new_data(bus, address):\n",
    "    try:\n",
    "        # Read the DEVICE_STATUS register (1 byte)\n",
    "        status_register_value = bus.read_byte_data(address, DEVICE_STATUS_REGISTER)\n",
    "        \n",
    "        # Check if the NEWDAT bit (bit 1) is set\n",
    "        newdat = (status_register_value & NEWDAT_BIT_MASK) >> 1\n",
    "        \n",
    "        if newdat == 1:\n",
    "            return True\n",
    "        else:\n",
    "            return False\n",
    "    except Exception as e:\n",
    "        print(f\"Error reading DEVICE_STATUS register: {e}\")\n",
    "        return False\n",
    "\n",
    "# Function to read AQI, TVOC, and ECO2 values\n",
    "def read_sensor_data(bus, address):\n",
    "    try:\n",
    "        # Read AQI value\n",
    "        aqi_value = bus.read_byte_data(address, DATA_AQI_REGISTER) & 0b00000111  # Extract AQI_UBA (bits 0:2)\n",
    "        \n",
    "        # Read TVOC value (2 bytes)\n",
    "        tvoc_lsb = bus.read_byte_data(address, DATA_TVOC_REGISTER)\n",
    "        tvoc_msb = bus.read_byte_data(address, DATA_TVOC_REGISTER + 1)\n",
    "        tvoc_value = (tvoc_msb << 8) | tvoc_lsb\n",
    "        \n",
    "        # Read ECO2 value (2 bytes)\n",
    "        eco2_lsb = bus.read_byte_data(address, DATA_ECO2_REGISTER)\n",
    "        eco2_msb = bus.read_byte_data(address, DATA_ECO2_REGISTER + 1)\n",
    "        eco2_value = (eco2_msb << 8) | eco2_lsb\n",
    "        \n",
    "        return aqi_value, tvoc_value, eco2_value\n",
    "    except Exception as e:\n",
    "        print(f\"Error reading sensor data: {e}\")\n",
    "        return None, None, None\n",
    "\n",
    "# Open I2C bus\n",
    "bus = smbus2.SMBus(I2C_BUS)\n",
    "\n",
    "# Open CSV file for writing (append mode)\n",
    "with open('sensor_out.csv', mode='a', newline='') as file:\n",
    "    writer = csv.writer(file)\n",
    "    \n",
    "    # Write header if file is empty\n",
    "    if file.tell() == 0:\n",
    "        writer.writerow([\"DATE - TIME\", \"AQI\", \"TVOC ppb\", \"eCO2 ppm\"])\n",
    "\n",
    "    # Run for 10 iterations\n",
    "    print(\"File opened with headers\")  # print headers\n",
    "    for _ in range(2000):\n",
    "        if check_new_data(bus, ENS160_ADDRESS):\n",
    "            aqi, tvoc, eco2 = read_sensor_data(bus, ENS160_ADDRESS)\n",
    "            if aqi is not None and tvoc is not None and eco2 is not None:\n",
    "                current_time = datetime.now().strftime(\"%Y-%m-%d %H:%M:%S\")\n",
    "                writer.writerow([current_time, aqi, tvoc, eco2])\n",
    "                file.flush()  # Ensure data is written to the file immediately\n",
    "        else:\n",
    "            print(\"No new data available.\")\n",
    "    \n",
    "        time.sleep(30)\n",
    "\n",
    "print(\"Data output finished. File closed.\") \n",
    "# Close the I2C bus\n",
    "bus.close()"
   ]
  },
  {
   "cell_type": "markdown",
   "id": "e9bc8e7c-dbe7-4d02-89a3-49e672aefebc",
   "metadata": {},
   "source": [
    "# Communications: test MQTT Autodiscovery with a dummy sensor\n",
    "The following is for testing autodiscovery with MQTT and a fake simple sensor sending a random value:"
   ]
  },
  {
   "cell_type": "code",
   "execution_count": 30,
   "id": "3daf46f4-498b-4078-8a67-58abaf65ea4a",
   "metadata": {},
   "outputs": [
    {
     "name": "stderr",
     "output_type": "stream",
     "text": [
      "/tmp/ipykernel_29721/1692786381.py:44: DeprecationWarning: Callback API version 1 is deprecated, update to latest version\n",
      "  client = mqtt.Client(protocol=mqtt.MQTTv5)\n"
     ]
    },
    {
     "name": "stdout",
     "output_type": "stream",
     "text": [
      "Connected to MQTT Broker!\n",
      "Published auto-discovery message: {\"name\": \"ENS160 Sensor\", \"state_topic\": \"homeassistant/sensor/ens160\", \"unit_of_measurement\": \"F\", \"value_template\": \"{{ value_json.value }}\", \"device_class\": \"temperature\", \"unique_id\": \"ens160_sensor\", \"availability_topic\": \"homeassistant/sensor/ens160/availability\", \"device\": {\"identifiers\": [\"ens160_sensor_device\"], \"name\": \"ENS160 Sensor Device\", \"manufacturer\": \"Your Manufacturer\", \"model\": \"ENS160\"}}\n",
      "Published: {'time': '2025-04-06 18:29:08', 'aqi': 3, 'tvoc': 866, 'eco2': 3106}\n",
      "Published: {'time': '2025-04-06 18:29:11', 'aqi': 1, 'tvoc': 26, 'eco2': 1530}\n",
      "Published: {'time': '2025-04-06 18:29:14', 'aqi': 4, 'tvoc': 283, 'eco2': 1449}\n",
      "Published: {'time': '2025-04-06 18:29:17', 'aqi': 1, 'tvoc': 839, 'eco2': 2575}\n"
     ]
    },
    {
     "data": {
      "text/plain": [
       "<MQTTErrorCode.MQTT_ERR_SUCCESS: 0>"
      ]
     },
     "execution_count": 30,
     "metadata": {},
     "output_type": "execute_result"
    }
   ],
   "source": [
    "import random\n",
    "import paho.mqtt.client as mqtt\n",
    "import time\n",
    "from datetime import datetime\n",
    "import json  # Import the JSON module\n",
    "\n",
    "# MQTT settings\n",
    "MQTT_BROKER = \"192.168.0.189\"\n",
    "MQTT_PORT = 1883\n",
    "MQTT_TOPIC = \"homeassistant/sensor/ens160\"\n",
    "MQTT_DISCOVERY_TOPIC = \"homeassistant/sensor/ens160/config\"\n",
    "MQTT_USERNAME = \"usermqtt\"\n",
    "MQTT_PASSWORD = \"usermqtt\"\n",
    "\n",
    "# Function to handle connection outcome\n",
    "def on_connect(client, userdata, flags, rc, properties=None):\n",
    "    if rc == 0:\n",
    "        print(\"Connected to MQTT Broker!\")\n",
    "        # MQTT auto-discovery payload\n",
    "        discovery_payload = {\n",
    "            \"name\": \"ENS160 Sensor\",\n",
    "            \"state_topic\": MQTT_TOPIC,\n",
    "            \"unit_of_measurement\": \"F\",  # Replace with the appropriate unit (e.g., \"ppm\", \"ppb\")\n",
    "            \"value_template\": \"{{ value_json.value }}\",\n",
    "            \"device_class\": \"temperature\",  # Optional: Specify the type of sensor (e.g., \"temperature\", \"humidity\")\n",
    "            \"unique_id\": \"ens160_sensor\",  # Unique ID for the sensor\n",
    "            \"availability_topic\": f\"{MQTT_TOPIC}/availability\",  # Optional: Availability topic\n",
    "            \"device\": {\n",
    "                \"identifiers\": [\"ens160_sensor_device\"],  # Unique identifier for the device\n",
    "                \"name\": \"ENS160 Sensor Device\",\n",
    "                \"manufacturer\": \"Your Manufacturer\",\n",
    "                \"model\": \"ENS160\"\n",
    "            }\n",
    "        }\n",
    "        # Publish MQTT auto-discovery message\n",
    "        #client.publish(MQTT_DISCOVERY_TOPIC, str(discovery_payload), retain=True)\n",
    "        #print(f\"Published auto-discovery message: {discovery_payload}\")\n",
    "        client.publish(MQTT_DISCOVERY_TOPIC, json.dumps(discovery_payload), retain=True)\n",
    "        print(f\"Published auto-discovery message: {json.dumps(discovery_payload)}\")\n",
    "    else:\n",
    "        print(f\"Failed to connect, return code {rc}\")\n",
    "\n",
    "# MQTT client setup with version 5.0\n",
    "client = mqtt.Client(protocol=mqtt.MQTTv5)\n",
    "client.username_pw_set(MQTT_USERNAME, MQTT_PASSWORD)\n",
    "client.on_connect = on_connect\n",
    "\n",
    "# Connect to the MQTT broker\n",
    "client.connect(MQTT_BROKER, MQTT_PORT, keepalive=60, bind_address=\"\", bind_port=0, clean_start=mqtt.MQTT_CLEAN_START_FIRST_ONLY, properties=None)\n",
    "\n",
    "# Start the MQTT client loop\n",
    "client.loop_start()\n",
    "\n",
    "# Function to generate random sensor data\n",
    "def generate_random_sensor_data():\n",
    "    aqi = random.randint(0, 5)\n",
    "    tvoc = random.randint(0, 1000)\n",
    "    eco2 = random.randint(400, 5000)\n",
    "    return aqi, tvoc, eco2\n",
    "\n",
    "# Publish random sensor data to MQTT\n",
    "for _ in range(4):\n",
    "    aqi, tvoc, eco2 = generate_random_sensor_data()\n",
    "    current_time = datetime.now().strftime(\"%Y-%m-%d %H:%M:%S\")\n",
    "    \n",
    "    payload = {\n",
    "        \"time\": current_time,\n",
    "        \"aqi\": aqi,\n",
    "        \"tvoc\": tvoc,\n",
    "        \"eco2\": eco2\n",
    "    }\n",
    "    \n",
    "    #client.publish(MQTT_TOPIC, str(payload))\n",
    "    client.publish(MQTT_TOPIC, json.dumps(payload))\n",
    "    print(f\"Published: {payload}\")\n",
    "    \n",
    "    time.sleep(3)\n",
    "\n",
    "# Stop the MQTT client loop and disconnect\n",
    "client.loop_stop()\n",
    "client.disconnect()"
   ]
  },
  {
   "cell_type": "markdown",
   "id": "ebf8c2cb-a2c8-44d6-bcd7-fd9e6472cd75",
   "metadata": {},
   "source": [
    "# Example of sensor random emulation published over MQTT\n",
    "This is a full example sending the three sensor values and a timestamp, using MQTT:"
   ]
  },
  {
   "cell_type": "code",
   "execution_count": 29,
   "id": "254772e9-a6e7-48fc-a98f-2e5fbea6fe51",
   "metadata": {},
   "outputs": [
    {
     "name": "stderr",
     "output_type": "stream",
     "text": [
      "/tmp/ipykernel_29721/2595923524.py:15: DeprecationWarning: Callback API version 1 is deprecated, update to latest version\n",
      "  client = mqtt.Client(protocol=mqtt.MQTTv5)\n"
     ]
    },
    {
     "name": "stdout",
     "output_type": "stream",
     "text": [
      "Published: {'time': '2025-04-06 18:22:00', 'aqi': 3, 'tvoc': 223, 'eco2': 4885}\n",
      "Published: {'time': '2025-04-06 18:22:03', 'aqi': 0, 'tvoc': 606, 'eco2': 759}\n",
      "Published: {'time': '2025-04-06 18:22:06', 'aqi': 5, 'tvoc': 151, 'eco2': 2147}\n",
      "Published: {'time': '2025-04-06 18:22:10', 'aqi': 5, 'tvoc': 190, 'eco2': 662}\n"
     ]
    },
    {
     "data": {
      "text/plain": [
       "<MQTTErrorCode.MQTT_ERR_SUCCESS: 0>"
      ]
     },
     "execution_count": 29,
     "metadata": {},
     "output_type": "execute_result"
    }
   ],
   "source": [
    "import random\n",
    "import paho.mqtt.client as mqtt\n",
    "import time\n",
    "from datetime import datetime\n",
    "import json  # Import the JSON module\n",
    "\n",
    "# MQTT settings\n",
    "MQTT_BROKER = \"192.168.0.189\"\n",
    "MQTT_PORT = 1883\n",
    "MQTT_TOPIC = \"homeassistant/sensor/ens160\"\n",
    "MQTT_USERNAME = \"usermqtt\"\n",
    "MQTT_PASSWORD = \"usermqtt\"\n",
    "\n",
    "# MQTT client setup with version 5.0\n",
    "client = mqtt.Client(protocol=mqtt.MQTTv5)\n",
    "client.username_pw_set(MQTT_USERNAME, MQTT_PASSWORD)\n",
    "client.on_connect = on_connect\n",
    "\n",
    "# Connect to the MQTT broker\n",
    "client.connect(MQTT_BROKER, MQTT_PORT, keepalive=60, bind_address=\"\", bind_port=0, clean_start=mqtt.MQTT_CLEAN_START_FIRST_ONLY, properties=None)\n",
    "\n",
    "# Function to generate random sensor data\n",
    "def generate_random_sensor_data():\n",
    "    aqi = random.randint(0, 5)\n",
    "    tvoc = random.randint(0, 1000)\n",
    "    eco2 = random.randint(400, 5000)\n",
    "    return aqi, tvoc, eco2\n",
    "\n",
    "# Publish random sensor data to MQTT\n",
    "for _ in range(4):\n",
    "    aqi, tvoc, eco2 = generate_random_sensor_data()\n",
    "    current_time = datetime.now().strftime(\"%Y-%m-%d %H:%M:%S\")\n",
    "    \n",
    "    payload = {\n",
    "        \"time\": current_time,\n",
    "        \"aqi\": aqi,\n",
    "        \"tvoc\": tvoc,\n",
    "        \"eco2\": eco2\n",
    "    }\n",
    "    \n",
    "    #client.publish(MQTT_TOPIC, str(payload))\n",
    "    client.publish(MQTT_TOPIC, json.dumps(payload))\n",
    "    print(f\"Published: {payload}\")\n",
    "    \n",
    "    time.sleep(3)\n",
    "\n",
    "client.disconnect()"
   ]
  },
  {
   "cell_type": "code",
   "execution_count": null,
   "id": "8454e4bb-56eb-4e4e-af6b-53190e25c37b",
   "metadata": {},
   "outputs": [],
   "source": []
  }
 ],
 "metadata": {
  "kernelspec": {
   "display_name": "Python 3 (ipykernel)",
   "language": "python",
   "name": "python3"
  },
  "language_info": {
   "codemirror_mode": {
    "name": "ipython",
    "version": 3
   },
   "file_extension": ".py",
   "mimetype": "text/x-python",
   "name": "python",
   "nbconvert_exporter": "python",
   "pygments_lexer": "ipython3",
   "version": "3.11.2"
  }
 },
 "nbformat": 4,
 "nbformat_minor": 5
}
